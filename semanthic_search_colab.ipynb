{
  "nbformat": 4,
  "nbformat_minor": 0,
  "metadata": {
    "colab": {
      "provenance": [],
      "gpuType": "T4"
    },
    "kernelspec": {
      "name": "python3",
      "display_name": "Python 3"
    },
    "language_info": {
      "name": "python"
    },
    "accelerator": "GPU"
  },
  "cells": [
    {
      "cell_type": "code",
      "execution_count": null,
      "metadata": {
        "id": "UKlx5tEVxzOi"
      },
      "outputs": [],
      "source": [
        "import pandas as pd\n"
      ]
    },
    {
      "cell_type": "code",
      "source": [
        "recipes = pd.read_csv('/content/drive/MyDrive/Iron Hack/Final project/RAW_recipes.csv')"
      ],
      "metadata": {
        "id": "SBNRD-0NyVXZ"
      },
      "execution_count": null,
      "outputs": []
    },
    {
      "cell_type": "code",
      "source": [
        "recipes = recipes.drop(['id', 'contributor_id', 'submitted', 'nutrition', 'description'], axis=1)"
      ],
      "metadata": {
        "id": "5a7eXPAXMHLR"
      },
      "execution_count": null,
      "outputs": []
    },
    {
      "cell_type": "code",
      "source": [
        "steps = recipes['steps'].astype(str).tolist()"
      ],
      "metadata": {
        "id": "igh2V6mZXdPB"
      },
      "execution_count": null,
      "outputs": []
    },
    {
      "cell_type": "code",
      "source": [
        "import spacy\n",
        "spacy.cli.download(\"en_core_web_md\")\n"
      ],
      "metadata": {
        "colab": {
          "base_uri": "https://localhost:8080/"
        },
        "id": "bF7ZD-bLYidw",
        "outputId": "95381925-2c1f-4267-d73b-5102f522c0c9"
      },
      "execution_count": null,
      "outputs": [
        {
          "output_type": "stream",
          "name": "stdout",
          "text": [
            "\u001b[38;5;2m✔ Download and installation successful\u001b[0m\n",
            "You can now load the package via spacy.load('en_core_web_md')\n"
          ]
        }
      ]
    },
    {
      "cell_type": "code",
      "source": [
        "nlp = spacy.load('en_core_web_md')\n",
        "\n",
        "def embed_text(text):\n",
        "    doc = nlp(text)\n",
        "    return doc.vector\n",
        "\n",
        "embeddings = [embed_text(step) for step in steps]\n"
      ],
      "metadata": {
        "id": "XCxfYRi_XwOZ"
      },
      "execution_count": null,
      "outputs": []
    },
    {
      "cell_type": "code",
      "source": [
        "import numpy as np\n",
        "\n",
        "embedding_matrix = np.array(embeddings).astype('float32')\n",
        "\n",
        "np.save('embedding_matrix.npy', embedding_matrix)"
      ],
      "metadata": {
        "id": "Ogd-d5m5KymH"
      },
      "execution_count": null,
      "outputs": []
    },
    {
      "cell_type": "code",
      "source": [
        "%pip install faiss-gpu\n"
      ],
      "metadata": {
        "colab": {
          "base_uri": "https://localhost:8080/"
        },
        "id": "8rC39UVFZBdn",
        "outputId": "2bb4bbf1-3f5c-426e-810e-af3f4e1ff0e9"
      },
      "execution_count": null,
      "outputs": [
        {
          "output_type": "stream",
          "name": "stdout",
          "text": [
            "Collecting faiss-gpu\n",
            "  Downloading faiss_gpu-1.7.2-cp310-cp310-manylinux_2_17_x86_64.manylinux2014_x86_64.whl (85.5 MB)\n",
            "\u001b[2K     \u001b[90m━━━━━━━━━━━━━━━━━━━━━━━━━━━━━━━━━━━━━━━━\u001b[0m \u001b[32m85.5/85.5 MB\u001b[0m \u001b[31m10.8 MB/s\u001b[0m eta \u001b[36m0:00:00\u001b[0m\n",
            "\u001b[?25hInstalling collected packages: faiss-gpu\n",
            "Successfully installed faiss-gpu-1.7.2\n"
          ]
        }
      ]
    },
    {
      "cell_type": "code",
      "source": [
        "embedding_matrix = np.load('embedding_matrix.npy')"
      ],
      "metadata": {
        "id": "1pKeXYHPLDBc"
      },
      "execution_count": null,
      "outputs": []
    },
    {
      "cell_type": "code",
      "source": [
        "import faiss\n",
        "import numpy as np\n",
        "\n",
        "faiss.normalize_L2(embedding_matrix)\n",
        "\n",
        "\n",
        "index = faiss.IndexFlatIP(embedding_matrix.shape[1])\n",
        "index.add(embedding_matrix)\n"
      ],
      "metadata": {
        "id": "lB6EwbvpY-TR"
      },
      "execution_count": null,
      "outputs": []
    },
    {
      "cell_type": "code",
      "source": [
        "def semantic_search(query, df, index, k=5):\n",
        "    query_embedding = embed_text(query)\n",
        "\n",
        "    query_embedding = np.expand_dims(query_embedding, axis=0)\n",
        "\n",
        "    faiss.normalize_L2(query_embedding)\n",
        "\n",
        "    _, result_indices = index.search(query_embedding, k)\n",
        "\n",
        "\n",
        "    print(f\"Results for query: {query}\\n\")\n",
        "    print(\"Entire Dataset:\")\n",
        "    for i, idx in enumerate(result_indices.flatten()):\n",
        "        print(f\"Rank {i+1} - Item {idx + 1}:\")\n",
        "        print(df.iloc[idx])\n",
        "        print(\"\\n\")\n",
        "\n",
        "query = \"Healthy salad with quinoa and vegetables\"\n",
        "semantic_search(query, recipes, index)"
      ],
      "metadata": {
        "colab": {
          "base_uri": "https://localhost:8080/"
        },
        "id": "EY8Gu5h6hN97",
        "outputId": "f6237914-eb3c-4d0b-84cc-5a08e38ee172"
      },
      "execution_count": null,
      "outputs": [
        {
          "output_type": "stream",
          "name": "stdout",
          "text": [
            "Results for query: Healthy salad with quinoa and vegetables\n",
            "\n",
            "Entire Dataset:\n",
            "Rank 1 - Item 165655:\n",
            "name                    prawn  shrimp  cocktail with dill dressing\n",
            "minutes                                                         30\n",
            "tags             ['30-minutes-or-less', 'time-to-make', 'course...\n",
            "n_steps                                                          2\n",
            "steps            ['for the dill dressing - combine the egg mayo...\n",
            "ingredients      ['mayonnaise', 'dijon mustard', 'dill', 'water...\n",
            "n_ingredients                                                   10\n",
            "Name: 165654, dtype: object\n",
            "\n",
            "\n",
            "Rank 2 - Item 140837:\n",
            "name                                          mushroom pasta for 2\n",
            "minutes                                                         35\n",
            "tags             ['60-minutes-or-less', 'time-to-make', 'course...\n",
            "n_steps                                                          2\n",
            "steps            ['in a skillet heat oil and add the onion& gar...\n",
            "ingredients      ['onions', 'garlic', 'lite olive oil', 'portab...\n",
            "n_ingredients                                                   11\n",
            "Name: 140836, dtype: object\n",
            "\n",
            "\n",
            "Rank 3 - Item 80821:\n",
            "name                                      enlightened caesar salad\n",
            "minutes                                                         10\n",
            "tags             ['15-minutes-or-less', 'time-to-make', 'course...\n",
            "n_steps                                                          3\n",
            "steps            ['using a food processor or blender , mix toge...\n",
            "ingredients      ['garlic clove', 'dry mustard', 'anchovy paste...\n",
            "n_ingredients                                                   10\n",
            "Name: 80820, dtype: object\n",
            "\n",
            "\n",
            "Rank 4 - Item 152500:\n",
            "name                                               papa ds goulash\n",
            "minutes                                                        165\n",
            "tags             ['time-to-make', 'course', 'main-ingredient', ...\n",
            "n_steps                                                          3\n",
            "steps            ['saut onion in butter and oil till soft , add...\n",
            "ingredients      ['85% lean ground beef', 'onion', 'garlic', 'd...\n",
            "n_ingredients                                                   12\n",
            "Name: 152499, dtype: object\n",
            "\n",
            "\n",
            "Rank 5 - Item 112311:\n",
            "name                 italian beef rissoles with fresh tomato salsa\n",
            "minutes                                                         25\n",
            "tags             ['lactose', '30-minutes-or-less', 'time-to-mak...\n",
            "n_steps                                                          6\n",
            "steps            ['italian beef rissoles: combine the beef minc...\n",
            "ingredients      ['beef mince', 'wheat germ', 'red capsicums', ...\n",
            "n_ingredients                                                   16\n",
            "Name: 112310, dtype: object\n",
            "\n",
            "\n"
          ]
        }
      ]
    },
    {
      "cell_type": "code",
      "source": [
        "import pickle\n",
        "import faiss\n",
        "import numpy as np\n",
        "\n",
        "with open('faiss_index.pkl', 'wb') as index_file:\n",
        "    pickle.dump(index, index_file)\n",
        "\n",
        "np.save('embedding_matrix.npy', embedding_matrix)\n"
      ],
      "metadata": {
        "id": "wrMlCk0VMqJq"
      },
      "execution_count": null,
      "outputs": []
    },
    {
      "cell_type": "code",
      "source": [
        "from google.colab import files\n",
        "\n",
        "files.download('faiss_index.pkl')\n"
      ],
      "metadata": {
        "id": "OuaZyviYQ99o",
        "outputId": "9fe3cd01-a2d0-4ab3-9938-de328d557817",
        "colab": {
          "base_uri": "https://localhost:8080/",
          "height": 34
        }
      },
      "execution_count": null,
      "outputs": [
        {
          "output_type": "display_data",
          "data": {
            "text/plain": [
              "<IPython.core.display.Javascript object>"
            ],
            "application/javascript": [
              "\n",
              "    async function download(id, filename, size) {\n",
              "      if (!google.colab.kernel.accessAllowed) {\n",
              "        return;\n",
              "      }\n",
              "      const div = document.createElement('div');\n",
              "      const label = document.createElement('label');\n",
              "      label.textContent = `Downloading \"${filename}\": `;\n",
              "      div.appendChild(label);\n",
              "      const progress = document.createElement('progress');\n",
              "      progress.max = size;\n",
              "      div.appendChild(progress);\n",
              "      document.body.appendChild(div);\n",
              "\n",
              "      const buffers = [];\n",
              "      let downloaded = 0;\n",
              "\n",
              "      const channel = await google.colab.kernel.comms.open(id);\n",
              "      // Send a message to notify the kernel that we're ready.\n",
              "      channel.send({})\n",
              "\n",
              "      for await (const message of channel.messages) {\n",
              "        // Send a message to notify the kernel that we're ready.\n",
              "        channel.send({})\n",
              "        if (message.buffers) {\n",
              "          for (const buffer of message.buffers) {\n",
              "            buffers.push(buffer);\n",
              "            downloaded += buffer.byteLength;\n",
              "            progress.value = downloaded;\n",
              "          }\n",
              "        }\n",
              "      }\n",
              "      const blob = new Blob(buffers, {type: 'application/binary'});\n",
              "      const a = document.createElement('a');\n",
              "      a.href = window.URL.createObjectURL(blob);\n",
              "      a.download = filename;\n",
              "      div.appendChild(a);\n",
              "      a.click();\n",
              "      div.remove();\n",
              "    }\n",
              "  "
            ]
          },
          "metadata": {}
        },
        {
          "output_type": "display_data",
          "data": {
            "text/plain": [
              "<IPython.core.display.Javascript object>"
            ],
            "application/javascript": [
              "download(\"download_de8ee09a-6a24-4aa2-b4dd-bb7004225fbd\", \"faiss_index.pkl\", 277964520)"
            ]
          },
          "metadata": {}
        }
      ]
    },
    {
      "cell_type": "code",
      "source": [],
      "metadata": {
        "id": "d7gagN_AQ-ld"
      },
      "execution_count": null,
      "outputs": []
    }
  ]
}